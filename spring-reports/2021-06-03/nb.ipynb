{
 "metadata": {
  "language_info": {
   "codemirror_mode": {
    "name": "ipython",
    "version": 3
   },
   "file_extension": ".py",
   "mimetype": "text/x-python",
   "name": "python",
   "nbconvert_exporter": "python",
   "pygments_lexer": "ipython3",
   "version": "3.9.4"
  },
  "orig_nbformat": 2,
  "kernelspec": {
   "name": "python394jvsc74a57bd06077964d131011d4d148c5994d74f2bf4223ce1348e59e98e728a6fba833e472",
   "display_name": "Python 3.9.4 64-bit ('unreal': conda)"
  },
  "metadata": {
   "interpreter": {
    "hash": "6077964d131011d4d148c5994d74f2bf4223ce1348e59e98e728a6fba833e472"
   }
  }
 },
 "nbformat": 4,
 "nbformat_minor": 2,
 "cells": [
  {
   "cell_type": "code",
   "execution_count": 1,
   "metadata": {},
   "outputs": [
    {
     "output_type": "stream",
     "name": "stdout",
     "text": [
      "The last update of this file: 2021-06-03 07:20:44\n"
     ]
    }
   ],
   "source": [
    "import time\n",
    "print(time.strftime(\"The last update of this file: %Y-%m-%d %H:%M:%S\", time.gmtime()))"
   ]
  },
  {
   "cell_type": "code",
   "execution_count": 2,
   "metadata": {},
   "outputs": [],
   "source": [
    "from __future__ import division, absolute_import, print_function\n",
    "import os, sys, time, re, json\n",
    "import numpy as np\n",
    "import matplotlib.pyplot as plt\n",
    "import unrealcv\n",
    "from unrealcv import client\n",
    "from unrealcv.automation import UE4Binary\n",
    "\n",
    "imread = plt.imread\n",
    "def imread8(im_file):\n",
    "    ''' Read image as a 8-bit numpy array '''\n",
    "    im = np.asarray(Image.open(im_file))\n",
    "    return im\n",
    "\n",
    "def read_png(res):\n",
    "    import StringIO, PIL.Image\n",
    "    img = PIL.Image.open(StringIO.StringIO(res))\n",
    "    return np.asarray(img)\n",
    "\n",
    "def read_npy(res):\n",
    "    import StringIO\n",
    "    return np.load(StringIO.StringIO(res))"
   ]
  },
  {
   "cell_type": "code",
   "execution_count": 3,
   "metadata": {},
   "outputs": [],
   "source": [
    "ip = '192.168.1.114'\n",
    "port = 9001\n",
    "client = unrealcv.Client((ip, port))"
   ]
  },
  {
   "cell_type": "code",
   "execution_count": 4,
   "metadata": {},
   "outputs": [
    {
     "output_type": "stream",
     "name": "stderr",
     "text": [
      "INFO:__init__:192:Got connection confirm: b'connected to testWProf'\n"
     ]
    }
   ],
   "source": [
    "# %tb\n",
    "client.connect()\n",
    "if not client.isconnected():\n",
    "    print('UnrealCV server is not running. Run the game downloaded from http://unrealcv.github.io first.')\n",
    "    sys.exit(-1)"
   ]
  },
  {
   "cell_type": "code",
   "execution_count": 5,
   "metadata": {},
   "outputs": [
    {
     "output_type": "execute_result",
     "data": {
      "text/plain": [
       "'ok'"
      ]
     },
     "metadata": {},
     "execution_count": 5
    }
   ],
   "source": [
    "client.request(\"vset /camera/0/pose 0 0 100 0 90 0\")"
   ]
  },
  {
   "cell_type": "code",
   "execution_count": 6,
   "metadata": {},
   "outputs": [
    {
     "output_type": "execute_result",
     "data": {
      "text/plain": [
       "'ok'"
      ]
     },
     "metadata": {},
     "execution_count": 6
    }
   ],
   "source": [
    "client.request(\"vrun shot\")"
   ]
  },
  {
   "cell_type": "code",
   "execution_count": null,
   "metadata": {},
   "outputs": [],
   "source": []
  }
 ]
}